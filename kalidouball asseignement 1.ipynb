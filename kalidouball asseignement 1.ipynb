{
 "cells": [
  {
   "cell_type": "markdown",
   "metadata": {},
   "source": [
    "# ASSIGMENT NUMBER 1 DE LA PROGRAMMATION EN PYTHON"
   ]
  },
  {
   "cell_type": "markdown",
   "metadata": {},
   "source": [
    "# NOMS: NTUMBA NKONGOLO"
   ]
  },
  {
   "cell_type": "markdown",
   "metadata": {},
   "source": [
    "# PRENOM:ALBERT"
   ]
  },
  {
   "cell_type": "markdown",
   "metadata": {},
   "source": [
    "1.  Compute the following expressions for a natural number n chosen by the user:\n",
    "    a) Odd\n",
    "    b)even"
   ]
  },
  {
   "cell_type": "markdown",
   "metadata": {},
   "source": [
    "a) Odd"
   ]
  },
  {
   "cell_type": "code",
   "execution_count": 1,
   "metadata": {},
   "outputs": [
    {
     "name": "stdout",
     "output_type": "stream",
     "text": [
      "enter the number: 6\n",
      "Cas de nombre pair  \n",
      "la somme avec les i impairs vaut:  18\n"
     ]
    }
   ],
   "source": [
    "n=int(input(\"enter the number: \"))\n",
    "print(\"Cas de nombre pair  \")\n",
    "s=0\n",
    "for i in range(0,n):\n",
    "    if(i%2!=0):\n",
    "         s=s+(i+3)\n",
    "    \n",
    "print(\"la somme avec les i impairs vaut: \", s)"
   ]
  },
  {
   "cell_type": "markdown",
   "metadata": {},
   "source": [
    "b) Even"
   ]
  },
  {
   "cell_type": "code",
   "execution_count": 2,
   "metadata": {},
   "outputs": [
    {
     "name": "stdout",
     "output_type": "stream",
     "text": [
      "enter the number: 5\n",
      "Cas de nombre impair  \n",
      "le produit avec les i pairs vaut:  105\n"
     ]
    }
   ],
   "source": [
    "n=int(input(\"enter the number: \"))\n",
    "print(\"Cas de nombre impair  \")\n",
    "p=1\n",
    "for i in range(0,n):\n",
    "    if (i%2==0):\n",
    "         p=p*(i+3)\n",
    "print(\"le produit avec les i pairs vaut: \", p)"
   ]
  },
  {
   "cell_type": "markdown",
   "metadata": {},
   "source": [
    "2. Write a program that reads the number of the day of the week (from 0 to 6). If it is a\n",
    "working day, then the program will write the name of the corresponding day. Otherwise,\n",
    "it will write the word \"Weekend\"."
   ]
  },
  {
   "cell_type": "code",
   "execution_count": 3,
   "metadata": {},
   "outputs": [
    {
     "name": "stdout",
     "output_type": "stream",
     "text": [
      "enter the number of the day of the week: 4\n",
      "on est vendre  \n"
     ]
    }
   ],
   "source": [
    "numberOfday=int(input(\"enter the number of the day of the week: \"))\n",
    "                \n",
    "for j in range(0,6):\n",
    "    if(numberOfday==0):\n",
    "        print(\"on est lundi \")\n",
    "        break\n",
    "    elif(numberOfday==1):\n",
    "        print(\"on est mardi \")\n",
    "        break\n",
    "    elif(numberOfday==2):\n",
    "        print(\"on est mercredi \")\n",
    "        break\n",
    "    elif(numberOfday==3):\n",
    "        print(\"on est jeudi  \")\n",
    "        break\n",
    "    elif(numberOfday==4):\n",
    "        print(\"on est vendre  \")\n",
    "        break\n",
    "    elif(numberOfday==5):\n",
    "        print(\"weekend \")\n",
    "        break\n",
    "    elif(numberOfday==6):\n",
    "         print(\"weekend\")\n",
    "         break\n",
    "               "
   ]
  },
  {
   "cell_type": "markdown",
   "metadata": {},
   "source": [
    "3. Make a program that, given a month number (from 0 to 11), indicates how many days it\n",
    "has (28, 30 or 31), ignoring the leap years."
   ]
  },
  {
   "cell_type": "code",
   "execution_count": 4,
   "metadata": {},
   "outputs": [
    {
     "name": "stdout",
     "output_type": "stream",
     "text": [
      " given a month number from 0 to 11 1\n",
      "le deuxieme mois a 28\n"
     ]
    }
   ],
   "source": [
    "numberOfmois=int(input(\" given a month number from 0 to 11 \"))\n",
    "                \n",
    "for j in range(0,11):\n",
    "    if(numberOfmois==0):\n",
    "        print(\"le premier mois a 31 jours \")\n",
    "        break\n",
    "    elif(numberOfmois==1):\n",
    "        print(\"le deuxieme mois a 28\")\n",
    "        break\n",
    "    elif(numberOfmois==2):\n",
    "        print(\"le deuxieme mois a 31 jours  \")\n",
    "        break\n",
    "    elif(numberOfmois==3):\n",
    "        print(\"le troisieme mois a 30 jours  \")\n",
    "        break\n",
    "    elif(numberOfmois==4):\n",
    "        print(\"le 4eme mois a 31 jours  \")\n",
    "        break\n",
    "    elif(numberOfmois==5):\n",
    "        print(\" le 5eme mois a 30 jours\")\n",
    "        break\n",
    "    elif(numberOfmois==6):\n",
    "         print(\"le 6eme mois a 31 jours\")\n",
    "    elif(numberOfmois==7):\n",
    "         print(\"le 7eme mois a 31 jours\")\n",
    "    elif(numberOfmois==8):\n",
    "         print(\"le 8eme mois a 30 jours\")\n",
    "    elif(numberOfmois==9):\n",
    "         print(\"le 9eme mois a 31 jours\")\n",
    "    elif(numberOfmois==10):\n",
    "         print(\"le 10eme mois a 30 jours\")\n",
    "    elif(numberOfmois==11):\n",
    "         print(\"le 11eme mois a 31 jours\")"
   ]
  },
  {
   "cell_type": "markdown",
   "metadata": {},
   "source": [
    "4. Write two versions of python code that displays your name 3 times. One version with a\n",
    "\"for loop\" and another version with a \"while loop\"."
   ]
  },
  {
   "cell_type": "markdown",
   "metadata": {},
   "source": [
    "a) VERSION  AVEC FOR "
   ]
  },
  {
   "cell_type": "code",
   "execution_count": 5,
   "metadata": {},
   "outputs": [
    {
     "name": "stdout",
     "output_type": "stream",
     "text": [
      "ntumba\n",
      "ntumba\n",
      "ntumba\n"
     ]
    }
   ],
   "source": [
    "nom=\"ntumba\"\n",
    "for a in range(1,4):\n",
    "    print(nom)\n",
    "    "
   ]
  },
  {
   "cell_type": "markdown",
   "metadata": {},
   "source": [
    "b) VERSION  AVEC WHILE"
   ]
  },
  {
   "cell_type": "code",
   "execution_count": 6,
   "metadata": {},
   "outputs": [
    {
     "name": "stdout",
     "output_type": "stream",
     "text": [
      "ntumba\n",
      "ntumba\n",
      "ntumba\n"
     ]
    }
   ],
   "source": [
    "nom=\"ntumba\"\n",
    "i=1\n",
    "while(i<4):\n",
    "    print(nom)\n",
    "    i=i+1\n",
    "    "
   ]
  },
  {
   "cell_type": "markdown",
   "metadata": {},
   "source": [
    "5. Given two numbers a0 and a1, the Fibonacci sequence they generate is constructed from\n",
    "the recursion formula an+1 = an + an−1. Calculate the first 15 terms of a Fibonacci\n",
    "sequence, asking the user the initial values."
   ]
  },
  {
   "cell_type": "code",
   "execution_count": 7,
   "metadata": {},
   "outputs": [
    {
     "name": "stdout",
     "output_type": "stream",
     "text": [
      "on a la suite :\n",
      "\n",
      "entrer la valeur de a0: 0\n",
      "entrer la valeur de a2: 1\n",
      "1\n",
      "1\n",
      "2\n",
      "3\n",
      "5\n",
      "8\n",
      "13\n",
      "21\n",
      "34\n",
      "55\n",
      "89\n",
      "144\n",
      "233\n",
      "377\n",
      "610\n"
     ]
    }
   ],
   "source": [
    "print(\"on a la suite :\\n\")\n",
    "a=int(input(\"entrer la valeur de a0: \"))\n",
    "b=int(input(\"entrer la valeur de a2: \"))\n",
    "i=1\n",
    "while(i<=15):\n",
    "    c=a+b\n",
    "    b=a\n",
    "    a=c\n",
    "    i+=1\n",
    "    print(c)    \n",
    "        "
   ]
  },
  {
   "cell_type": "markdown",
   "metadata": {},
   "source": [
    "6. Compute the first 30 terms of the sequence defined by $2xn+2 − xn+1 − 6xn = 0$ sequence,\n",
    "given any two initial values x0 and x1"
   ]
  },
  {
   "cell_type": "code",
   "execution_count": 8,
   "metadata": {},
   "outputs": [
    {
     "name": "stdout",
     "output_type": "stream",
     "text": [
      "X( 2 ) est : 3.5\n",
      "X( 3 ) est : 4.75\n",
      "X( 4 ) est : 12.875\n",
      "X( 5 ) est : 20.6875\n",
      "X( 6 ) est : 48.96875\n",
      "X( 7 ) est : 86.546875\n",
      "X( 8 ) est : 190.1796875\n",
      "X( 9 ) est : 354.73046875\n",
      "X( 10 ) est : 747.904296875\n",
      "X( 11 ) est : 1438.1435546875\n",
      "X( 12 ) est : 2962.78466796875\n",
      "X( 13 ) est : 5795.822998046875\n",
      "X( 14 ) est : 11786.265502929688\n",
      "X( 15 ) est : 23280.60174560547\n",
      "X( 16 ) est : 46999.0973815918\n",
      "X( 17 ) est : 93341.3539276123\n",
      "X( 18 ) est : 187667.96910858154\n",
      "X( 19 ) est : 373858.0463371277\n",
      "X( 20 ) est : 749932.9304943085\n",
      "X( 21 ) est : 1496540.6042585373\n",
      "X( 22 ) est : 2998069.093612194\n",
      "X( 23 ) est : 5988656.359581709\n",
      "X( 24 ) est : 11988535.460627437\n",
      "X( 25 ) est : 23960236.809058845\n",
      "X( 26 ) est : 47945724.78641173\n",
      "X( 27 ) est : 95853572.8203824\n",
      "X( 28 ) est : 191763960.7694264\n",
      "X( 29 ) est : 383442698.84586036\n",
      "X( 30 ) est : 767013231.7312095\n"
     ]
    }
   ],
   "source": [
    "x0=1\n",
    "x1=1\n",
    "for a in range(1,30):\n",
    "    x=(x1+(6*x0))/2\n",
    "    x0=x1\n",
    "    x1=x\n",
    "    print(\"X(\",a+1,\")\",\"est :\",x)"
   ]
  },
  {
   "cell_type": "markdown",
   "metadata": {},
   "source": [
    "7. a) Write python code to determine whether or not a year is a leap year. Be sure you\n",
    "know what a leap year is.\n",
    "b) Write the code using only logical operators, i.e. no conditional branching."
   ]
  },
  {
   "cell_type": "markdown",
   "metadata": {},
   "source": [
    "a) Write python code to determine whether or not a year is a leap year. Be sure you know what a leap year is. "
   ]
  },
  {
   "cell_type": "code",
   "execution_count": 10,
   "metadata": {},
   "outputs": [
    {
     "name": "stdout",
     "output_type": "stream",
     "text": [
      "entrer l'annee: 2017\n",
      "2017 n'est pas une annee bissextile  \n"
     ]
    }
   ],
   "source": [
    "Annee =int(input(\"entrer l'annee: \"))\n",
    "if (Annee % 4) == 0:\n",
    "    if (Annee % 100) == 0:\n",
    "        if (Annee % 400) == 0:\n",
    "            print(Annee,\" est une annee bissextile \".format(Annee),sep=\"\")\n",
    "        else:\n",
    "            print(Annee,\" n'est pas une annee bissextile \".format(Annee),sep=\"\")\n",
    "    else:\n",
    "        print(Annee,\" est annee bissextile  \".format(Annee),sep=\"\")\n",
    "else:\n",
    "    print(Annee,\" n'est pas une annee bissextile  \".format(Annee),sep=\"\")"
   ]
  },
  {
   "cell_type": "markdown",
   "metadata": {},
   "source": [
    " b) Write the code using only logical operators, i.e. no conditional branching."
   ]
  },
  {
   "cell_type": "code",
   "execution_count": 11,
   "metadata": {},
   "outputs": [
    {
     "name": "stdout",
     "output_type": "stream",
     "text": [
      "Entrer une annee : 2017\n"
     ]
    },
    {
     "data": {
      "text/plain": [
       "False"
      ]
     },
     "execution_count": 11,
     "metadata": {},
     "output_type": "execute_result"
    }
   ],
   "source": [
    "Annee = int(input(\"Entrer une annee : \"))\n",
    "a=(Annee% 4)\n",
    "b=(Annee%100)\n",
    "c=(Annee%400)\n",
    "(a==0 and b==0 and c==0) or a==0"
   ]
  },
  {
   "cell_type": "markdown",
   "metadata": {},
   "source": [
    "8.a) Write python code that computes the sum of the square of the first n natural numbers.\n",
    "One version with a \"for loop\" and another version with a \"while loop\".\n",
    "b) Write python code that prints, for a natural number M, the smallest natural number\n",
    "n"
   ]
  },
  {
   "cell_type": "markdown",
   "metadata": {},
   "source": [
    "a) Write python code that computes the sum of the square of the first n natural numbers.\n",
    "One version with a \"for loop\" and another version with a \"while loop\"."
   ]
  },
  {
   "cell_type": "code",
   "execution_count": 12,
   "metadata": {},
   "outputs": [
    {
     "name": "stdout",
     "output_type": "stream",
     "text": [
      "enter the number: 4\n",
      " the sum of the square of the first n natural numbers:  30\n"
     ]
    }
   ],
   "source": [
    "n=int(input(\"enter the number: \"))\n",
    "s=0\n",
    "for i in range(1,n+1):\n",
    "    s=s+(i**2)\n",
    "print(\" the sum of the square of the first n natural numbers: \",s)"
   ]
  },
  {
   "cell_type": "markdown",
   "metadata": {},
   "source": [
    "b) Write python code that prints, for a natural number M, the smallest natural number n"
   ]
  },
  {
   "cell_type": "code",
   "execution_count": 13,
   "metadata": {},
   "outputs": [
    {
     "name": "stdout",
     "output_type": "stream",
     "text": [
      "enter the number: 3\n",
      "enter the number: 6\n",
      " the smallest natural number n is:  5\n"
     ]
    }
   ],
   "source": [
    "n=int(input(\"enter the number: \"))\n",
    "m=int(input(\"enter the number: \"))\n",
    "s=0\n",
    "for i in range(1,n+1):\n",
    "    s=s+(i**2)\n",
    "    if(s<=m):\n",
    "        a=s\n",
    "print(\" the smallest natural number n is: \",a)"
   ]
  },
  {
   "cell_type": "markdown",
   "metadata": {},
   "source": [
    "9. a) Write python code that prints all the divisors of a given natural number.\n",
    "b) Read an integer number input by the user and calculate its prime factors. This will\n",
    "just be some of its divisors."
   ]
  },
  {
   "cell_type": "markdown",
   "metadata": {},
   "source": [
    " a) Write python code that prints all the divisors of a given natural number."
   ]
  },
  {
   "cell_type": "code",
   "execution_count": 14,
   "metadata": {},
   "outputs": [
    {
     "name": "stdout",
     "output_type": "stream",
     "text": [
      "entrer un nombre :12\n",
      "1 est un diviseur de 12\n",
      "2 est un diviseur de 12\n",
      "3 est un diviseur de 12\n",
      "4 est un diviseur de 12\n",
      "6 est un diviseur de 12\n",
      "12 est un diviseur de 12\n"
     ]
    }
   ],
   "source": [
    "n=int(input(\"entrer un nombre :\"))\n",
    "if n>0:\n",
    "    for a in range(1,n+1):\n",
    "        if(n%a==0):\n",
    "            print(a,\" \",\"est un diviseur de \",n,sep=\"\")"
   ]
  },
  {
   "cell_type": "markdown",
   "metadata": {},
   "source": [
    "b) Read an integer number input by the user and calculate its prime factors. This will\n",
    "just be some of its divisors."
   ]
  },
  {
   "cell_type": "code",
   "execution_count": 15,
   "metadata": {},
   "outputs": [],
   "source": [
    "def ifactor(n):\n",
    "    t , j = [], 2\n",
    "    while n > 1:\n",
    "        if (n % j) == 0:\n",
    "            t.append(j)\n",
    "            n //= j\n",
    " \n",
    "        else:\n",
    "            j += 1\n",
    "    return t"
   ]
  },
  {
   "cell_type": "code",
   "execution_count": 16,
   "metadata": {},
   "outputs": [
    {
     "name": "stdout",
     "output_type": "stream",
     "text": [
      "[2, 2, 5, 5]\n"
     ]
    }
   ],
   "source": [
    "print(ifactor(100))"
   ]
  },
  {
   "cell_type": "markdown",
   "metadata": {},
   "source": [
    "10. Read an integer number between n 0 and 9 and print its multiplication table up to N\n",
    "where N is another another natural number read by the program."
   ]
  },
  {
   "cell_type": "code",
   "execution_count": 17,
   "metadata": {},
   "outputs": [
    {
     "name": "stdout",
     "output_type": "stream",
     "text": [
      "entrer nombre entier: 5\n",
      "entrer un autre entier nombre: 12\n",
      "5 x 1 = 5\n",
      "5 x 2 = 10\n",
      "5 x 3 = 15\n",
      "5 x 4 = 20\n",
      "5 x 5 = 25\n",
      "5 x 6 = 30\n",
      "5 x 7 = 35\n",
      "5 x 8 = 40\n",
      "5 x 9 = 45\n",
      "5 x 10 = 50\n",
      "5 x 11 = 55\n",
      "5 x 12 = 60\n"
     ]
    }
   ],
   "source": [
    "n=int(input(\"entrer nombre entier: \"))\n",
    "N=int(input(\"entrer un autre entier nombre: \"))\n",
    "if(n>=0 and n<=9):\n",
    "    for a in range(1,N+1):\n",
    "        print(n,\"x\",a,\"=\",n*a)\n"
   ]
  },
  {
   "cell_type": "markdown",
   "metadata": {},
   "source": [
    "11. Write a program that prints all the numbers between 0 and 40 that are multiples of 3, 7 or 11. \n"
   ]
  },
  {
   "cell_type": "code",
   "execution_count": 18,
   "metadata": {},
   "outputs": [
    {
     "name": "stdout",
     "output_type": "stream",
     "text": [
      "0  est multiple de de 3\n",
      "0  est multiple de de 7\n",
      "0 est multiple de de 11\n",
      "3  est multiple de de 3\n",
      "6  est multiple de de 3\n",
      "7  est multiple de de 7\n",
      "9  est multiple de de 3\n",
      "11 est multiple de de 11\n",
      "12  est multiple de de 3\n",
      "14  est multiple de de 7\n",
      "15  est multiple de de 3\n",
      "18  est multiple de de 3\n",
      "21  est multiple de de 3\n",
      "21  est multiple de de 7\n",
      "22 est multiple de de 11\n",
      "24  est multiple de de 3\n",
      "27  est multiple de de 3\n",
      "28  est multiple de de 7\n",
      "30  est multiple de de 3\n",
      "33  est multiple de de 3\n",
      "33 est multiple de de 11\n",
      "35  est multiple de de 7\n",
      "36  est multiple de de 3\n",
      "39  est multiple de de 3\n"
     ]
    }
   ],
   "source": [
    "for a in range(0,41):\n",
    "    if(a%3==0):\n",
    "        print(a,\" \",\" est multiple de de 3\",sep=\"\")\n",
    "    if(a%7==0):\n",
    "        print(a,\" \",\" est multiple de de 7\",sep=\"\")\n",
    "    if(a%11==0):\n",
    "        print(a,\"\",\" est multiple de de 11\",sep=\"\")"
   ]
  },
  {
   "cell_type": "markdown",
   "metadata": {},
   "source": [
    "12. Write python code that prints the floor of a float x. Recall that the floor of a float x is the largest integer value less than or equal to x, i.e. if E[x] is the floor of x, then it satisfies, \n",
    "E[x] = 1 + E[x − 1] "
   ]
  },
  {
   "cell_type": "code",
   "execution_count": 21,
   "metadata": {},
   "outputs": [
    {
     "name": "stdout",
     "output_type": "stream",
     "text": [
      "entrer la valeur de x: 15.54\n",
      "la partie entiere de x est :  15\n"
     ]
    }
   ],
   "source": [
    "from math import *\n",
    "x=float(input(\"entrer la valeur de x: \"))\n",
    "Exmoins1=floor(x-1)\n",
    "Ex=1+Exmoins1\n",
    "print(\"la partie entiere de x est : \",Ex)"
   ]
  },
  {
   "cell_type": "markdown",
   "metadata": {},
   "source": [
    "13. Given a point in the plane by its Cartesian coordinates, determine in which quadrant it is (1st, 2nd, 3rd, 4th), if it lies on an axis, or if it is the origin. Do this for several points in the same execution of the program until the user quits. "
   ]
  },
  {
   "cell_type": "code",
   "execution_count": 23,
   "metadata": {},
   "outputs": [
    {
     "name": "stdout",
     "output_type": "stream",
     "text": [
      "----------------------------------------\n",
      "entrer la valeur de x: 5\n",
      "entrer la valeur de y: 3\n",
      "----------------------------------------\n",
      "on est dans le premier quadrant\n",
      "Voulez vous continuer ? : oui\n",
      "----------------------------------------\n",
      "entrer la valeur de x: -5\n",
      "entrer la valeur de y: 5\n",
      "----------------------------------------\n",
      "on est dans le deuxieme quadrant\n",
      "Voulez vous continuer ? : oui\n",
      "----------------------------------------\n",
      "entrer la valeur de x: -2\n",
      "entrer la valeur de y: 4\n",
      "----------------------------------------\n",
      "on est dans le deuxieme quadrant\n",
      "Voulez vous continuer ? : oui\n",
      "----------------------------------------\n",
      "entrer la valeur de x: 6\n",
      "entrer la valeur de y: -4\n",
      "----------------------------------------\n",
      "on est au quatrieme quadrant\n",
      "Voulez vous continuer ? : non\n"
     ]
    }
   ],
   "source": [
    "reponse=\"oui\"\n",
    "while(reponse==\"oui\"):\n",
    "    print(\"----------------------------------------\")\n",
    "    x=float(input(\"entrer la valeur de x: \"))\n",
    "    y=float(input(\"entrer la valeur de y: \"))\n",
    "    print(\"----------------------------------------\")\n",
    "    if(x>0 and y>0):\n",
    "        print(\"on est dans le premier quadrant\")\n",
    "    elif(x<0 and y>0):\n",
    "        print(\"on est dans le deuxieme quadrant\")\n",
    "    elif(x<0 and y<0):\n",
    "        print(\"on est au troisieme quadrant\")\n",
    "    elif(x>0 and y<0):\n",
    "        print(\"on est au quatrieme quadrant\")\n",
    "    elif(x==0):\n",
    "        print(\"on est sur l'axe des ordonnees a l'origine\")\n",
    "    elif(y==0):\n",
    "        print(\"on est sur l'axe des abscisses \")\n",
    "    else:\n",
    "        print(\"on est a l'origine\")\n",
    "    reponse=str(input(\"Voulez vous continuer ? : \"))"
   ]
  },
  {
   "cell_type": "markdown",
   "metadata": {},
   "source": [
    "14. Ask for an integer number between 0 and 9, denoted x. Once the user has entered a correct number (that is one in the range [0..10)) the program asks for a second integer number between 0 and 255, denoted max. The program continues asking for the number until it is correct (that it is in the range [0..256)). When this is done, show all multiples of x that are between 0 and max. Then, ask the user whether he/she wants to continue; if in the affirmative, ask for another couple of numbers, otherwise finish. "
   ]
  },
  {
   "cell_type": "code",
   "execution_count": 28,
   "metadata": {},
   "outputs": [
    {
     "name": "stdout",
     "output_type": "stream",
     "text": [
      "entrer le premier nombre: 5\n",
      "entrer le deuxieme nombre: 35\n",
      "les multiples de  5  sont:  [5, 10, 15, 20, 25, 30, 35]\n",
      "Vous voulez continuer ? :oui\n",
      "---------------------------------------\n",
      "entrer le premier nombre: 6\n",
      "entrer le deuxieme nombre: 36\n",
      "les multiples de  6  sont:  [6, 12, 18, 24, 30, 36]\n",
      "Vous voulez continuer ? :non\n",
      "---------------------------------------\n"
     ]
    }
   ],
   "source": [
    "reponse=\"oui\"\n",
    "while(reponse==\"oui\"):\n",
    "    l=[]\n",
    "    x=int(input(\"entrer le premier nombre: \"))\n",
    "    maxx=int(input(\"entrer le deuxieme nombre: \"))\n",
    "    while((x>=0 and x<=9) and (maxx>=0 and maxx<=250)):\n",
    "        for a in range(1,maxx+1):\n",
    "            if(a%x==0):\n",
    "                l.append(a)\n",
    "        break\n",
    "    print(\"les multiples de \",x,\" sont: \",l) \n",
    "    reponse=str(input(\"Vous voulez continuer ? :\"))\n",
    "    print(\"---------------------------------------\")"
   ]
  },
  {
   "cell_type": "markdown",
   "metadata": {},
   "source": [
    "# GOOD"
   ]
  }
 ],
 "metadata": {
  "kernelspec": {
   "display_name": "Python 3",
   "language": "python",
   "name": "python3"
  },
  "language_info": {
   "codemirror_mode": {
    "name": "ipython",
    "version": 3
   },
   "file_extension": ".py",
   "mimetype": "text/x-python",
   "name": "python",
   "nbconvert_exporter": "python",
   "pygments_lexer": "ipython3",
   "version": "3.7.3"
  }
 },
 "nbformat": 4,
 "nbformat_minor": 2
}
