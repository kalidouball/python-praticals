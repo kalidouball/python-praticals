{
 "cells": [
  {
   "cell_type": "markdown",
   "metadata": {},
   "source": [
    "<center>\n",
    "    <a href=\"https://www.aims-senegal.org/\" ><img src=\"aimssn_logo.png\" style=\"float:center; max-width: 600px; display: inline\" alt=\"IMSP\"/> </a>\n",
    "    </center>\n",
    "    \n",
    "#    <center> <b> <span style=\"color:orange;\" >  `Python for Scientific Computing and Software Engineering ` </span> </b></center>\n",
    "\n",
    "\n",
    "## <center> <b> <span style=\"color:orange;\"> An Initiation to Programming using Python (Init2Py) </span> </b></center>\n",
    "\n",
    "### <center> <b> <span style=\"color:blue;\"> Practicals: Variables, Types & Operations </span> </b></center>"
   ]
  },
  {
   "cell_type": "markdown",
   "metadata": {},
   "source": [
    "**Exercise 00:**  \n",
    "\n",
    "> 1. Declare a variable `firstname` and assign it a value.\n",
    "> 2. Declare a `lastname` variable and assign a value to it.\n",
    "> 3. Declare a `full_name` variable and assign it a value.\n",
    "> 4. Declare a `country` variable and assign it a value.\n",
    "> 5. Declare a variable `city` and assign it a value.\n",
    "> 6. Declare a `age` variable and assign it a value.\n",
    "> 7. Declare a variable `year` and assign it a value.\n",
    "> 8. Declare a variable `is_marrie` and assign it a value.\n",
    "> 9. Declare a variable `is_true` and assign it a value.\n",
    "\n",
    "> For each of the above variable, display the value it contains using the `print()` function.\n",
    "\n",
    "\n"
   ]
  },
  {
   "cell_type": "code",
   "execution_count": 14,
   "metadata": {},
   "outputs": [
    {
     "name": "stdout",
     "output_type": "stream",
     "text": [
      "kalidou\n",
      "aliou\n",
      "ball\n",
      "senegal\n",
      "saint_louis\n",
      "26\n",
      "2021\n",
      "False\n",
      "False\n"
     ]
    }
   ],
   "source": [
    "firstname = \"kalidou\"\n",
    "lastname = \"aliou\"\n",
    "fullname = \"ball\"\n",
    "country = \"senegal\"\n",
    "city= \"saint_louis\"\n",
    "age = 26\n",
    "year = 2021\n",
    "is_marie = False\n",
    "is_true = False\n",
    "print(firstname)\n",
    "print(lastname)\n",
    "print(fullname)\n",
    "print(country)\n",
    "print(city)\n",
    "print(age)\n",
    "print(year)\n",
    "print(is_marie)\n",
    "print(is_true)"
   ]
  },
  {
   "cell_type": "markdown",
   "metadata": {},
   "source": [
    "print**Exercise 01:** \n",
    "> Check the data type of all your variables using the built-in function `type()`.**\n"
   ]
  },
  {
   "cell_type": "code",
   "execution_count": 16,
   "metadata": {},
   "outputs": [
    {
     "name": "stdout",
     "output_type": "stream",
     "text": [
      "26\n"
     ]
    },
    {
     "data": {
      "text/plain": [
       "bool"
      ]
     },
     "execution_count": 16,
     "metadata": {},
     "output_type": "execute_result"
    }
   ],
   "source": [
    "type(firstname)\n",
    "type(lastname)\n",
    "type(fullname)\n",
    "type(fullname)\n",
    "type(country)\n",
    "type(city)\n",
    "print(age)\n",
    "type(year)\n",
    "type(is_marie)\n",
    "type(is_true)"
   ]
  },
  {
   "cell_type": "markdown",
   "metadata": {},
   "source": [
    "**Exercise 02:** \n",
    "> Calculate the value of $y$ ($y = x^2 + 6x + 9$). Try using different values of $x$ and determine at what value of $x$ will $y$ be equal to 0.**"
   ]
  },
  {
   "cell_type": "code",
   "execution_count": 22,
   "metadata": {},
   "outputs": [
    {
     "data": {
      "text/plain": [
       "0"
      ]
     },
     "execution_count": 22,
     "metadata": {},
     "output_type": "execute_result"
    }
   ],
   "source": [
    "x=-3\n",
    "y= x**2+6*x+9\n",
    "y \n"
   ]
  },
  {
   "cell_type": "markdown",
   "metadata": {},
   "source": [
    "**Exercise 03:** \n",
    ">    \n",
    "     1. Declare your age as an integer variable\n",
    "     2. Declare your height as a float variable\n",
    "     3. Declare a variable that stores the base and height of a triangle. Calculate the area of this triangle (area = 0.5 x b x h)."
   ]
  },
  {
   "cell_type": "code",
   "execution_count": 25,
   "metadata": {},
   "outputs": [
    {
     "name": "stdout",
     "output_type": "stream",
     "text": [
      "Enter a base: 2\n",
      "Enter an height: 3\n",
      "l'aire est de = area 3.0\n"
     ]
    }
   ],
   "source": [
    "\n",
    "\n",
    "base = input(\"Enter a base: \")\n",
    "base = int(base)\n",
    "height = input(\"Enter an height: \")\n",
    "height = float(height)\n",
    "area = 0.5*base*height\n",
    "print(\"l'aire est de = area\",area)\n",
    "\n"
   ]
  },
  {
   "cell_type": "markdown",
   "metadata": {},
   "source": [
    "## *Tip: receiving input from the user *\n",
    "**To receive an input from the user, we use `input()`.**.\n",
    "\n",
    "**Example**\n",
    "Receive two numbers as input from the user and calculate their power:\n",
    "```python\n",
    "base = input(\"Enter a base: \")\n",
    "exponent = input(\"Enter an exponent: \")\n",
    "result = float(base) ** float(exponent)\n",
    "print(f \"{base} to the power of {exponent} = {result}\")\n",
    "```"
   ]
  },
  {
   "cell_type": "markdown",
   "metadata": {},
   "source": [
    "**Exercise 04:** \n",
    "> **Write a small code that asks the user to enter the side $a$, the side $b$ and the side $c$ of a triangle. Calculate the perimeter of the triangle (perimeter = a + b + c).**"
   ]
  },
  {
   "cell_type": "code",
   "execution_count": 4,
   "metadata": {},
   "outputs": [
    {
     "name": "stdout",
     "output_type": "stream",
     "text": [
      "Enter a : 3\n",
      "Enter b: 5\n",
      "enter c6\n",
      "perimeter = 14\n"
     ]
    }
   ],
   "source": [
    "a= input(\"Enter a : \")\n",
    "a = int(a)\n",
    "b= input(\"Enter b: \")\n",
    "b= int(b)\n",
    "c=input(\"enter c\")\n",
    "c= int(c)\n",
    "perimeter= a+b+c\n",
    "print(\"perimeter =\",perimeter)\n",
    "\n"
   ]
  },
  {
   "cell_type": "markdown",
   "metadata": {},
   "source": [
    "**Exercise 05:** \n",
    "> **Obtain the length and width of a rectangle using the prompt. Calculate its `area`and its `perimeter`.**"
   ]
  },
  {
   "cell_type": "code",
   "execution_count": 9,
   "metadata": {},
   "outputs": [
    {
     "name": "stdout",
     "output_type": "stream",
     "text": [
      "Enter a length: 6\n",
      "enter a width: 4\n",
      "perimeter = 20\n",
      "area= 24\n"
     ]
    }
   ],
   "source": [
    "a= input(\"Enter a length: \")\n",
    "a = int(a)\n",
    "b= input(\"enter a width: \")\n",
    "b= int(b)\n",
    "perimeter=(a+b)*2\n",
    "area = a*b\n",
    "print(\"perimeter =\",perimeter)\n",
    "print(\"area=\",area)"
   ]
  },
  {
   "cell_type": "markdown",
   "metadata": {},
   "source": [
    "**Exercice 06:** \n",
    "> **Obtenez le rayon d'un cercle en utilisant l'invite. Calculez l'aire (aire = pi x r x r) et la circonférence (c = 2 x pi x r) où pi = 3,14.**"
   ]
  },
  {
   "cell_type": "code",
   "execution_count": 10,
   "metadata": {},
   "outputs": [
    {
     "name": "stdout",
     "output_type": "stream",
     "text": [
      "Entrer rayon: 4\n",
      "perimeter = 25.12\n",
      "area= 50.24\n"
     ]
    }
   ],
   "source": [
    "r= input(\"Entrer rayon: \")\n",
    "r = float(r)\n",
    "pi=3.14\n",
    "area = pi*r*r\n",
    "perimeter=2*pi*r\n",
    "print(\"perimeter =\",perimeter)\n",
    "print(\"area=\",area)"
   ]
  },
  {
   "cell_type": "markdown",
   "metadata": {},
   "source": [
    "**Exercice 07:**\n",
    "> **Calculez la pente, l'ordonnée à l'origine en x et l'ordonnée à l'origine en $y$ de $y = 2x -2$.**"
   ]
  },
  {
   "cell_type": "code",
   "execution_count": 11,
   "metadata": {},
   "outputs": [
    {
     "name": "stdout",
     "output_type": "stream",
     "text": [
      "la pente est 2\n",
      "l'ordonnee a l'origine en x -2\n",
      "l'ordonnee a l'origine en x= 1\n"
     ]
    }
   ],
   "source": [
    "print(\"la pente est\",2)\n",
    "print(\"l'ordonnee a l'origine en x\",-2)\n",
    "print(\"l'ordonnee a l'origine en x=\",1)"
   ]
  },
  {
   "cell_type": "markdown",
   "metadata": {},
   "source": [
    "**Exercice 08:** \n",
    "> **Rédigez un script qui demande à l'utilisateur d'entrer les heures et le taux horaire. Calculez la rémunération de la personne ?**"
   ]
  },
  {
   "cell_type": "code",
   "execution_count": 12,
   "metadata": {},
   "outputs": [
    {
     "name": "stdout",
     "output_type": "stream",
     "text": [
      "Enter le taux: 3\n",
      "enter heure: 7\n",
      "la renumeration est  21.0\n"
     ]
    }
   ],
   "source": [
    "a= input(\"Enter le taux: \")\n",
    "a = float(a)\n",
    "b= input(\"enter heure: \")\n",
    "b= float(b)\n",
    "perimeter= a*b\n",
    "renum= a*b\n",
    "print(\"la renumeration est \",renum)"
   ]
  },
  {
   "cell_type": "markdown",
   "metadata": {},
   "source": [
    "**Exercice 09:** \n",
    "> **Écrivez un script qui demande à l'utilisateur d'entrer le nombre d'années. Calculez le nombre de secondes qu'une personne peut vivre. Supposons qu'une personne puisse vivre cent ans.**"
   ]
  },
  {
   "cell_type": "code",
   "execution_count": 13,
   "metadata": {},
   "outputs": [
    {
     "name": "stdout",
     "output_type": "stream",
     "text": [
      "Enter le nombre d'annee: 2\n",
      "le temps vecu en seconde est  62208000\n"
     ]
    }
   ],
   "source": [
    "a= input(\"Enter le nombre d'annee: \")\n",
    "a = int(a)\n",
    "v= a*31104000\n",
    "print(\"le temps vecu en seconde est \",v)"
   ]
  },
  {
   "cell_type": "markdown",
   "metadata": {},
   "source": [
    "**Exercice 10:** \n",
    "> **Écrivez un script Python qui affiche le tableau suivant**\n",
    "\n",
    "    1 1 1 1 1\n",
    "    \n",
    "    2 1 2 4 8\n",
    "    \n",
    "    3 1 3 9 27\n",
    "    \n",
    "    4 1 4 16 64\n",
    "    \n",
    "    5 1 5 25 125"
   ]
  },
  {
   "cell_type": "code",
   "execution_count": 11,
   "metadata": {},
   "outputs": [
    {
     "name": "stdout",
     "output_type": "stream",
     "text": [
      "1 1 1 1 1\n",
      "2 1 2 4 8\n",
      "3 1 3 9 27\n",
      "4 1 4 16 64\n",
      "5 1 5 25 125\n"
     ]
    }
   ],
   "source": [
    "print(\"1 1 1 1 1\")\n",
    "\n",
    "print(\"2 1 2 4 8\")\n",
    "\n",
    "print(\"3 1 3 9 27\")\n",
    "\n",
    "print(\"4 1 4 16 64\")\n",
    "\n",
    "print(\"5 1 5 25 125\")"
   ]
  },
  {
   "cell_type": "markdown",
   "metadata": {},
   "source": [
    "**Exercise 11:** \n",
    ">**Assign the variables `time` and `distance` with the values $6.892$ and $19.7$. Calculate and display the value of the speed. Improve the display by imposing a digit after the decimal point.**"
   ]
  },
  {
   "cell_type": "code",
   "execution_count": 17,
   "metadata": {},
   "outputs": [
    {
     "name": "stdout",
     "output_type": "stream",
     "text": [
      "la vitesse est 2.8583865351131745\n",
      "la vitesse a un chiffre apres la virgule est 2.9\n"
     ]
    }
   ],
   "source": [
    "t= 6.892\n",
    "d=19.7\n",
    "v=d/t\n",
    "print(\"la vitesse est\", v)\n",
    "k= round (v,1)\n",
    "print(\"la vitesse a un chiffre apres la virgule est\", k)\n"
   ]
  },
  {
   "cell_type": "markdown",
   "metadata": {},
   "source": [
    "**Exercice 12:** \n",
    "> **Écrire un programme qui, à partir de la saisie d’un rayon et d’une hauteur, calcule levolume d’un cône droit.**"
   ]
  },
  {
   "cell_type": "code",
   "execution_count": 18,
   "metadata": {},
   "outputs": [
    {
     "name": "stdout",
     "output_type": "stream",
     "text": [
      "Entrer le rayon: 1\n",
      "Entrer la hateur: 1\n",
      "lvolume est 1.0466666666666666\n"
     ]
    }
   ],
   "source": [
    "r= input(\"Entrer le rayon: \")\n",
    "r = float(r)\n",
    "h= input(\"Entrer la hateur: \")\n",
    "h= float(h)\n",
    "v=1/3*pi*(r**2)*h\n",
    "print(\"le volume est\", v)\n",
    "\n"
   ]
  },
  {
   "cell_type": "markdown",
   "metadata": {},
   "source": [
    "**Exercise 13:** \n",
    "> **The user gives a positive integer and the program announces how many times in a row this integer is divisible by 2.**"
   ]
  },
  {
   "cell_type": "code",
   "execution_count": 22,
   "metadata": {},
   "outputs": [
    {
     "name": "stdout",
     "output_type": "stream",
     "text": [
      "Entrer n: 16\n",
      "le nombre est 4\n"
     ]
    }
   ],
   "source": [
    "n = int(input(\"Entrer n: \"))\n",
    "d=0\n",
    "while(n%2==0):\n",
    "    d=d+1\n",
    "    n=n/2\n",
    "\n",
    "print(\"le nombre est\", d)\n",
    "\n"
   ]
  },
  {
   "cell_type": "markdown",
   "metadata": {},
   "source": [
    "**Exercise 14:** \n",
    ">**The user gives an integer between 2 and 12, the program gives the number of ways to do this by rolling two dice."
   ]
  },
  {
   "cell_type": "code",
   "execution_count": 2,
   "metadata": {},
   "outputs": [
    {
     "name": "stdout",
     "output_type": "stream",
     "text": [
      "Entrer n compris entre 1 et 12: 8\n",
      "Entrer RESULTAT du DE 1:1\n",
      "Entrer RESULTAT du DE 2:2\n",
      "Entrer RESULTAT du DE 1:4\n",
      "Entrer RESULTAT du DE 2:4\n",
      "R1 et R2 sont ok\n"
     ]
    }
   ],
   "source": [
    "n= int(input(\"Entrer n compris entre 1 et 12: \"))\n",
    "R1= int(input(\"Entrer RESULTAT du DE 1:\"))\n",
    "R2= int(input(\"Entrer RESULTAT du DE 2:\"))\n",
    "while(n!=R1+R2):\n",
    "  R1= int(input(\"Entrer RESULTAT du DE 1:\"))\n",
    "  R2= int(input(\"Entrer RESULTAT du DE 2:\"))\n",
    "print( \"R1 et R2 sont ok\")"
   ]
  },
  {
   "cell_type": "markdown",
   "metadata": {},
   "source": [
    "**Exercice 15:** \n",
    "> **Utilisez la fonction d'entrée intégrée `input()` pour obtenir le `_prénom_`, le `_nom_`, le `_pays_d_origine` et l'`_age_` d'un utilisateur et stockez la valeur dans les noms des variables correspondantes.**"
   ]
  },
  {
   "cell_type": "code",
   "execution_count": 4,
   "metadata": {},
   "outputs": [
    {
     "name": "stdout",
     "output_type": "stream",
     "text": [
      "donner le prenom:kalidou\n",
      "donner le nom:ball\n",
      "donner le nom du pays d'origine:senegal\n",
      "donner l'age:26\n",
      "prenom: kalidou\n",
      "nom: ball\n",
      "prenom: senegal\n",
      "age: 26\n"
     ]
    }
   ],
   "source": [
    "prenom=input(\"donner le prenom:\")\n",
    "nom=input(\"donner le nom:\")\n",
    "pays=input(\"donner le nom du pays d'origine:\")\n",
    "age=input(\"donner l'age:\")\n",
    "print(\"prenom:\", prenom)\n",
    "print(\"nom:\",nom)\n",
    "print(\"prenom:\", pays)\n",
    "print(\"age:\", age)\n"
   ]
  },
  {
   "cell_type": "markdown",
   "metadata": {},
   "source": [
    "**Exercice 16:** \n",
    "\n",
    "**Déclarer $5$ comme `num_one` et $4$ comme `num_two`**\n",
    "\n",
    "   1. Additionner `num_one` et `num_two` et affecter la valeur à une variable `totale`.\n",
    "   2. Soustraire `num_two` de `num_one` et affecter la valeur à une variable `diff`.\n",
    "   3. Multipliez le `num_one` et le `num_two` et attribuez la valeur à une variable `produit`.\n",
    "   4. Divisez le `num_one` par le `num_two` et attribuez la valeur à une variable `division`.\n",
    "   5. Calculez `num_one` à la puissance de `num_two` et attribuez la valeur à une variable `exp`."
   ]
  },
  {
   "cell_type": "code",
   "execution_count": 9,
   "metadata": {},
   "outputs": [
    {
     "name": "stdout",
     "output_type": "stream",
     "text": [
      "l'addition donne: 9\n",
      "la multiplication donne: 20\n",
      "la difference donne: -1\n",
      "la division  donne: 1.25\n",
      "la puissance  donne: 625\n"
     ]
    }
   ],
   "source": [
    "num_one=5\n",
    "num_two=4\n",
    "totale=num_one+num_two\n",
    "produit=num_one*num_two\n",
    "diff=num_two-num_one\n",
    "division=num_one/num_two\n",
    "exp=num_one**num_two\n",
    "print(\"l'addition donne:\", totale)\n",
    "print(\"la multiplication donne:\", produit)\n",
    "print(\"la difference donne:\", diff)\n",
    "print(\"la division  donne:\", division)\n",
    "print(\"la puissance  donne:\", exp)\n"
   ]
  },
  {
   "cell_type": "markdown",
   "metadata": {},
   "source": [
    "<center> <b> <span style=\"color:orange;\"> 🎉 FÉLICITATIONS! / CONGRATULATIONS! 🎉 </span> </b></center>"
   ]
  }
 ],
 "metadata": {
  "kernelspec": {
   "display_name": "Python 3",
   "language": "python",
   "name": "python3"
  },
  "language_info": {
   "codemirror_mode": {
    "name": "ipython",
    "version": 3
   },
   "file_extension": ".py",
   "mimetype": "text/x-python",
   "name": "python",
   "nbconvert_exporter": "python",
   "pygments_lexer": "ipython3",
   "version": "3.7.3"
  }
 },
 "nbformat": 4,
 "nbformat_minor": 5
}
