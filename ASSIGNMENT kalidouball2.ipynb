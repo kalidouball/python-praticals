{
 "cells": [
  {
   "cell_type": "markdown",
   "metadata": {},
   "source": [
    "# ASSIGMENT NUMBER 2 DE LA PROGRAMMATION EN PYTHON"
   ]
  },
  {
   "cell_type": "markdown",
   "metadata": {},
   "source": [
    "# NOMS: NTUMBA NKONGOLO"
   ]
  },
  {
   "cell_type": "markdown",
   "metadata": {},
   "source": [
    "# PRENOM:ALBERT"
   ]
  },
  {
   "cell_type": "markdown",
   "metadata": {},
   "source": [
    "# InPy-02 - Functions & Recursions"
   ]
  },
  {
   "cell_type": "markdown",
   "metadata": {},
   "source": [
    "1. Write a python script that asks the user for the values of x and y and uses these inputs to\n",
    "compute the numerical value of the expression"
   ]
  },
  {
   "cell_type": "code",
   "execution_count": 2,
   "metadata": {},
   "outputs": [
    {
     "name": "stdout",
     "output_type": "stream",
     "text": [
      "entrer la valeur de x: 2\n",
      "entrer la valeur de x: 3\n",
      "5.573742638248916\n"
     ]
    }
   ],
   "source": [
    "from math import *\n",
    "x=int(input(\"entrer la valeur de x: \"))\n",
    "y=int(input(\"entrer la valeur de x: \"))\n",
    "expo=((sqrt((x**2)+y)/(1/x)+2*sin(y)))\n",
    "print(expo)"
   ]
  },
  {
   "cell_type": "markdown",
   "metadata": {},
   "source": [
    "2. Write a function that given two integers b and n (n is positive), calculates b\n",
    "\n",
    "n without using\n",
    "\n",
    "python’s power operator. Name this function ownpowerfn.py.\n",
    "PS: What if we do not specify that n has to be positive?"
   ]
  },
  {
   "cell_type": "code",
   "execution_count": 1,
   "metadata": {},
   "outputs": [],
   "source": [
    "from math import *\n",
    "def ownpowerfn(b,n):\n",
    "    if(n>0):\n",
    "        c=1\n",
    "        for a in range(1,n+1):\n",
    "            c*=b\n",
    "    else:\n",
    "        print(\"n doit etre positif\")\n",
    "    return c"
   ]
  },
  {
   "cell_type": "code",
   "execution_count": 2,
   "metadata": {},
   "outputs": [
    {
     "data": {
      "text/plain": [
       "32"
      ]
     },
     "execution_count": 2,
     "metadata": {},
     "output_type": "execute_result"
    }
   ],
   "source": [
    "ownpowerfn(2,5)"
   ]
  },
  {
   "cell_type": "markdown",
   "metadata": {},
   "source": [
    "Dans de non precision de n positif cad n negatif"
   ]
  },
  {
   "cell_type": "code",
   "execution_count": 3,
   "metadata": {},
   "outputs": [],
   "source": [
    "from math import *\n",
    "def ownpowerfnN(b,n):\n",
    "    c=1\n",
    "    for a in range(1,n+1):\n",
    "        c*=b\n",
    "    return c"
   ]
  },
  {
   "cell_type": "code",
   "execution_count": 4,
   "metadata": {},
   "outputs": [
    {
     "data": {
      "text/plain": [
       "1"
      ]
     },
     "execution_count": 4,
     "metadata": {},
     "output_type": "execute_result"
    }
   ],
   "source": [
    "ownpowerfnN(2,-6)"
   ]
  },
  {
   "cell_type": "markdown",
   "metadata": {},
   "source": [
    "3. Write functions that do the following:\n",
    "a) Takes two arguments, and computes their arithmetic and geometric means. Name\n",
    "these functions arithmetic_mean and geometric_mean respectively.\n",
    "b) Converts degree Celsius to Fahrenheit and vice versa. Name these two functions\n",
    "celcius_to_fahrenheit and fahrenheit_to_celcius respectively.\n",
    "c) Converts angle in degrees to radians and vice versa. Name these two functions\n",
    "degrees_to_radians and radians_to_degrees respectively.\n",
    "d) Computes the circumference and the area of a circle given the radius."
   ]
  },
  {
   "cell_type": "markdown",
   "metadata": {},
   "source": [
    "a) Elle prend deux arguments et calcule leurs moyennes arithmétiques et géométriques. Nommez\n",
    "ces fonctions respectivement moyenne arithmétique et moyenne géométrique."
   ]
  },
  {
   "cell_type": "code",
   "execution_count": 8,
   "metadata": {},
   "outputs": [
    {
     "name": "stdout",
     "output_type": "stream",
     "text": [
      "4.0\n",
      "3.1622776601683795\n"
     ]
    }
   ],
   "source": [
    "from math import *\n",
    "def MoyenneArithemetique(a,b):\n",
    "    moyeAr=(a+b)/2\n",
    "    return moyeAr\n",
    "\n",
    "def MoyenneGeometriaue(a,b):\n",
    "    moyeG=sqrt(a*b)\n",
    "    return moyeG\n",
    "\n",
    "print(MoyenneArithemetique(2,6))\n",
    "print(MoyenneGeometriaue(2,5))"
   ]
  },
  {
   "cell_type": "markdown",
   "metadata": {},
   "source": [
    "b) Converts degree Celsius to Fahrenheit and vice versa. Name these two functions\n",
    "celcius_to_fahrenheit and fahrenheit_to_celcius respectively."
   ]
  },
  {
   "cell_type": "code",
   "execution_count": 29,
   "metadata": {},
   "outputs": [
    {
     "name": "stdout",
     "output_type": "stream",
     "text": [
      "15  degre Celsius egal a  59.0 Fahrenheit\n",
      "45  degre Fahrenheit egal  7.222222222222222 Celsius\n"
     ]
    }
   ],
   "source": [
    "def celsius_to_fahrenheit(x):\n",
    "    y=(9/5)*x + 32\n",
    "    print(x, \" degre Celsius egal a \", y, \"Fahrenheit\")\n",
    "    return\n",
    "celsius_to_fahrenheit(15)\n",
    "\n",
    "def fahrenheit_to_celsius(x):\n",
    "    y=(5/9)*(x-32)\n",
    "    print(x, \" degre Fahrenheit egal \", y, \"Celsius\")\n",
    "    return\n",
    "fahrenheit_to_celsius(45)"
   ]
  },
  {
   "cell_type": "markdown",
   "metadata": {},
   "source": [
    "c) Converts angle in degrees to radians and vice versa. Name these two functions\n",
    "degrees_to_radians and radians_to_degrees respectively."
   ]
  },
  {
   "cell_type": "code",
   "execution_count": 31,
   "metadata": {},
   "outputs": [
    {
     "name": "stdout",
     "output_type": "stream",
     "text": [
      "22 degrees equal to  0.3839724354387525 radians\n",
      "3.839 radians equal to  219.95849755072302 degrees\n"
     ]
    }
   ],
   "source": [
    "import math\n",
    "def degrees_to_radians(x):\n",
    "    y=(x*math.pi)/180\n",
    "    print(x, \"degrees equal to \", y, \"radians\")\n",
    "    return\n",
    "degrees_to_radians(22)\n",
    "\n",
    "def radians_to_degrees(x):\n",
    "    y=(180*x)/math.pi\n",
    "    print(x, \"radians equal to \", y, \"degrees\")\n",
    "    return\n",
    "radians_to_degrees(3.839)"
   ]
  },
  {
   "cell_type": "markdown",
   "metadata": {},
   "source": [
    "d) Computes the circumference and the area of a circle given the radius."
   ]
  },
  {
   "cell_type": "code",
   "execution_count": 33,
   "metadata": {},
   "outputs": [
    {
     "name": "stdout",
     "output_type": "stream",
     "text": [
      "The circumference of a circle of radius r = 2 is p = 12.566370614359172\n",
      "The area of a circle of radius r = 2 is A = 12.566370614359172\n"
     ]
    }
   ],
   "source": [
    "import math\n",
    "def circumference(r):\n",
    "    p=2*math.pi*r\n",
    "    print(\"The circumference of a circle of radius r =\", r, \"is p =\", p)\n",
    "    return\n",
    "circumference(2)\n",
    "\n",
    "def area(r):\n",
    "    A=math.pi*r**2\n",
    "    print(\"The area of a circle of radius r =\", r, \"is A =\", A)\n",
    "    return \n",
    "area(2)"
   ]
  },
  {
   "cell_type": "markdown",
   "metadata": {},
   "source": [
    "4.Write functions that do the following:"
   ]
  },
  {
   "cell_type": "markdown",
   "metadata": {},
   "source": [
    "a) Given two numbers, compute their average and geometrical mean and prints them.\n",
    "Now write a program that performs this process 10 times, taking as input the means\n",
    "computed in the previous step. Name this function avggeom."
   ]
  },
  {
   "cell_type": "code",
   "execution_count": 23,
   "metadata": {},
   "outputs": [
    {
     "name": "stdout",
     "output_type": "stream",
     "text": [
      "The average mean is  6.5\n",
      "The geometrical mean is  6.324555320336759\n",
      "enter x : 4\n",
      "enter y : 5\n",
      "4.5 4.47213595499958\n",
      "4.48606797749979 4.486046343663662\n",
      "4.486057160581726 4.486057160568685\n",
      "4.486057160575205 4.486057160575206\n",
      "4.486057160575205 4.486057160575206\n",
      "4.486057160575205 4.486057160575206\n",
      "4.486057160575205 4.486057160575206\n",
      "4.486057160575205 4.486057160575206\n",
      "4.486057160575205 4.486057160575206\n",
      "4.486057160575205 4.486057160575206\n"
     ]
    }
   ],
   "source": [
    "def av_geo(x, y):\n",
    "    m=(x+y)/2\n",
    "    print(\" average mean is \", m)\n",
    "    g=(x*y)**(1/2)\n",
    "    print(\" geometrical mean is \", g)\n",
    "    return\n",
    "av_geo(5,8)\n",
    "\n",
    "x=float(input(\"entrer x : \"))\n",
    "y=float(input(\"entrer y : \"))\n",
    "def average(x, y):\n",
    "    a=(x+y)/2\n",
    "    return a\n",
    "def geo_mean(x,y):\n",
    "    g=(x*y)**(1/2)\n",
    "    return g\n",
    "def avggeom(x, y):\n",
    "    print(average(x,y), geo_mean(x,y))\n",
    "    return average(x,y), geo_mean(x,y)\n",
    "n=(x,y)\n",
    "for i in range(0, 10):\n",
    "    t=n\n",
    "    n=avggeom(t[0],t[1])\n"
   ]
  },
  {
   "cell_type": "markdown",
   "metadata": {},
   "source": [
    "b) Write a function that computes the distance between two points in the plane. Use\n",
    "it in another program that computes the perimeter and the area of a triangle, given\n",
    "three points in the plane. Name this function distancefn."
   ]
  },
  {
   "cell_type": "code",
   "execution_count": 25,
   "metadata": {},
   "outputs": [
    {
     "name": "stdout",
     "output_type": "stream",
     "text": [
      " la distance entre ( 3 , -2 ) and ( 5 , 6 ) is  8.246211251235321\n"
     ]
    }
   ],
   "source": [
    "import math\n",
    "def distance(x1,x2,y1,y2):\n",
    "    d=math.sqrt((x2-x1)**2+(y2-y1)**2)\n",
    "    print(\" la distance entre (\",x1, \",\", y1, \") and (\",x2, \",\", y2, \") is \", d)\n",
    "    return\n",
    "distance(3,5,-2,6)"
   ]
  },
  {
   "cell_type": "code",
   "execution_count": 26,
   "metadata": {},
   "outputs": [
    {
     "name": "stdout",
     "output_type": "stream",
     "text": [
      "le perimetre du triangle vaut:  18.631376058369824\n",
      "le area du triangle est :  12.999999999999996\n"
     ]
    }
   ],
   "source": [
    "import math\n",
    "def distance(x1,x2,y1,y2):\n",
    "    d=math.sqrt((x2-x1)**2+(y2-y1)**2)\n",
    "    return d\n",
    "def distancefn(x1,x2,x3,y1,y2,y3):\n",
    "    p=distance(x1,x2,y1,y2) + distance(x2,x3,y2,y3) + distance(x1,x3,y1,y3)\n",
    "    A=math.sqrt((p/2)*(p/2 -distance(x1,x2,y1,y2))*(p/2 -distance(x2,x3,y2,y3))*(p/2 - distance(x1,x3,y1,y3)))\n",
    "    print(\"le perimetre du triangle vaut: \", p)\n",
    "    print(\"le area du triangle est : \", A)\n",
    "    return \n",
    "distancefn(4,2,0,-3,5,0)"
   ]
  },
  {
   "cell_type": "markdown",
   "metadata": {},
   "source": [
    "5. Write a program that offers three options to the user:\n",
    " 1. Evaluation of factorial\n",
    " 2. Evaluation of a second degree equation\n",
    " 3. Exit\n",
    " \n",
    "The user selects one of the options and then the program requests the data needed and calls the corresponding function to produce a result. The program then repeats the process until the user says he wants to exit. Name this function fact2nddeg"
   ]
  },
  {
   "cell_type": "code",
   "execution_count": 21,
   "metadata": {},
   "outputs": [
    {
     "name": "stdout",
     "output_type": "stream",
     "text": [
      " entrer A si vous voulez l'évaluation de la factorielle ou B pour l'évaluation de l'équation du second degré ou C pour l'abandon : OK\n",
      "Veuillez entrer la valeur n dont vous voulez évaluer la factorielle. : 5\n",
      "la factorialle de  5 est 120\n",
      " entrer A si vous voulez l'évaluation de la factorielle ou B pour l'évaluation de l'équation du second degré ou C pour l'abandon : NON\n",
      " entrer la valeur de a as : 1\n",
      " entrer la valeur of b : 2\n",
      " entrer la valeur de c : 1\n",
      "la solution pour x_0 =  -1.0\n",
      " entrer A si vous voulez l'évaluation de la factorielle ou B pour l'évaluation de l'équation du second degré ou C pour l'abandon : KO\n",
      "Good\n"
     ]
    }
   ],
   "source": [
    "import math\n",
    "def factorial(n):\n",
    "    if n == 0:\n",
    "        return 1\n",
    "    else:\n",
    "        return n * factorial(n-1)\n",
    "def seconddeg(a,b,c):\n",
    "    delta=b**2-4*a*c\n",
    "    if delta==0:\n",
    "        return print(\"la solution pour x_0 = \", -b/(2*a))\n",
    "    elif delta > 0:\n",
    "        return print(\"la solution pour x_1 = \", (-b-math.sqrt(delta))/(2*a), \"et x_2 = \", (-b+math.sqrt(delta))/(2*a) )\n",
    "    else:\n",
    "        return print(\"la solution pour x_1 = \", -b/(2*a), \" -j\",(math.sqrt(-delta))/(2*a),\" et x_2 = \", -b/(2*a), \" +j\",(math.sqrt(-delta))/(2*a))  \n",
    "def fact2nddeg():\n",
    "    while True:\n",
    "        y=input(\" entrer A si vous voulez l'évaluation de la factorielle ou B pour l'évaluation de l'équation du second degré ou C pour l'abandon : \")\n",
    "        if (y==\"OK\"):\n",
    "            n=int(input(\"Veuillez entrer la valeur n dont vous voulez évaluer la factorielle. : \"))\n",
    "            print(\"la factorialle de \", n, \"est\", factorial(n))\n",
    "        elif (y==\"NON\"):\n",
    "            a=float(input(\" entrer la valeur de a as : \"))\n",
    "            b=float(input(\" entrer la valeur of b : \"))\n",
    "            c=float(input(\" entrer la valeur de c : \"))\n",
    "            seconddeg(a,b,c)\n",
    "        else:\n",
    "            print(\"Good\")\n",
    "            break    \n",
    "fact2nddeg()        "
   ]
  },
  {
   "cell_type": "markdown",
   "metadata": {},
   "source": [
    "6.Fonction recursive"
   ]
  },
  {
   "cell_type": "code",
   "execution_count": 17,
   "metadata": {},
   "outputs": [
    {
     "data": {
      "text/plain": [
       "16"
      ]
     },
     "execution_count": 17,
     "metadata": {},
     "output_type": "execute_result"
    }
   ],
   "source": [
    "def power(x, n):\n",
    "    i=1\n",
    "    if (n==0):\n",
    "        return 1\n",
    "    if (n>0):\n",
    "        for j in range(abs(n)):\n",
    "            i=i*x\n",
    "        return i\n",
    "    else:\n",
    "        return 1/i\n",
    "power(-4,2)    \n",
    "    "
   ]
  },
  {
   "cell_type": "markdown",
   "metadata": {},
   "source": [
    "7. suite Fibonacci"
   ]
  },
  {
   "cell_type": "code",
   "execution_count": 9,
   "metadata": {},
   "outputs": [
    {
     "name": "stdout",
     "output_type": "stream",
     "text": [
      "on a la suite :\n",
      "\n",
      "entrer la valeur de a0: 2\n",
      "entrer la valeur de a2: 3\n",
      "5\n",
      "7\n",
      "12\n",
      "19\n",
      "31\n",
      "50\n",
      "81\n",
      "131\n",
      "212\n",
      "343\n",
      "555\n",
      "898\n",
      "1453\n",
      "2351\n",
      "3804\n",
      "6155\n",
      "9959\n",
      "16114\n",
      "26073\n",
      "42187\n",
      "68260\n",
      "110447\n",
      "178707\n",
      "289154\n",
      "467861\n",
      "757015\n",
      "1224876\n",
      "1981891\n",
      "3206767\n",
      "5188658\n",
      "8395425\n",
      "13584083\n",
      "21979508\n",
      "35563591\n",
      "57543099\n",
      "93106690\n",
      "150649789\n",
      "243756479\n",
      "394406268\n",
      "638162747\n",
      "1032569015\n",
      "1670731762\n",
      "2703300777\n",
      "4374032539\n",
      "7077333316\n",
      "11451365855\n",
      "18528699171\n",
      "29980065026\n",
      "48508764197\n",
      "78488829223\n",
      "126997593420\n",
      "205486422643\n",
      "332484016063\n",
      "537970438706\n",
      "870454454769\n",
      "1408424893475\n",
      "2278879348244\n",
      "3687304241719\n",
      "5966183589963\n",
      "9653487831682\n",
      "15619671421645\n",
      "25273159253327\n",
      "40892830674972\n",
      "66165989928299\n",
      "107058820603271\n",
      "173224810531570\n",
      "280283631134841\n",
      "453508441666411\n",
      "733792072801252\n",
      "1187300514467663\n",
      "1921092587268915\n",
      "3108393101736578\n",
      "5029485689005493\n",
      "8137878790742071\n",
      "13167364479747564\n",
      "21305243270489635\n",
      "34472607750237199\n",
      "55777851020726834\n",
      "90250458770964033\n",
      "146028309791690867\n",
      "236278768562654900\n",
      "382307078354345767\n",
      "618585846917000667\n",
      "1000892925271346434\n",
      "1619478772188347101\n",
      "2620371697459693535\n",
      "4239850469648040636\n",
      "6860222167107734171\n",
      "11100072636755774807\n",
      "17960294803863508978\n",
      "29060367440619283785\n",
      "47020662244482792763\n",
      "76081029685102076548\n",
      "123101691929584869311\n",
      "199182721614686945859\n",
      "322284413544271815170\n",
      "521467135158958761029\n",
      "843751548703230576199\n",
      "1365218683862189337228\n",
      "2208970232565419913427\n"
     ]
    }
   ],
   "source": [
    "print(\"on a la suite :\\n\")\n",
    "a=int(input(\"entrer la valeur de a0: \"))\n",
    "b=int(input(\"entrer la valeur de a2: \"))\n",
    "i=1\n",
    "while(i<=100):\n",
    "    c=a+b\n",
    "    b=a\n",
    "    a=c\n",
    "    i+=1\n",
    "    print(c)    \n",
    "        "
   ]
  },
  {
   "cell_type": "markdown",
   "metadata": {},
   "source": [
    "# GOOD"
   ]
  },
  {
   "cell_type": "code",
   "execution_count": null,
   "metadata": {},
   "outputs": [],
   "source": []
  }
 ],
 "metadata": {
  "kernelspec": {
   "display_name": "Python 3",
   "language": "python",
   "name": "python3"
  },
  "language_info": {
   "codemirror_mode": {
    "name": "ipython",
    "version": 3
   },
   "file_extension": ".py",
   "mimetype": "text/x-python",
   "name": "python",
   "nbconvert_exporter": "python",
   "pygments_lexer": "ipython3",
   "version": "3.7.3"
  }
 },
 "nbformat": 4,
 "nbformat_minor": 2
}
